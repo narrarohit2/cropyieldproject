{
 "cells": [
  {
   "cell_type": "markdown",
   "metadata": {},
   "source": [
    "### Importing Necessary Libraries"
   ]
  },
  {
   "cell_type": "code",
   "execution_count": 1,
   "metadata": {},
   "outputs": [],
   "source": [
    "import numpy as np\n",
    "import pandas as pd\n",
    "import matplotlib.pyplot as plt\n",
    "from sklearn.preprocessing import Imputer\n",
    "from sklearn.preprocessing import StandardScaler\n",
    "from sklearn.preprocessing import LabelEncoder, OneHotEncoder"
   ]
  },
  {
   "cell_type": "markdown",
   "metadata": {},
   "source": [
    "### Loading the Data"
   ]
  },
  {
   "cell_type": "code",
   "execution_count": 2,
   "metadata": {},
   "outputs": [
    {
     "name": "stdout",
     "output_type": "stream",
     "text": [
      "Index(['State_Name', 'District_Name', 'Crop_Year', 'Season', 'Crop', 'Area',\n",
      "       'Production'],\n",
      "      dtype='object')\n"
     ]
    }
   ],
   "source": [
    "dataset = pd.read_csv('apy.csv')\n",
    "print(dataset.keys())"
   ]
  },
  {
   "cell_type": "markdown",
   "metadata": {},
   "source": [
    "### Metadata - List of Crops"
   ]
  },
  {
   "cell_type": "code",
   "execution_count": 3,
   "metadata": {},
   "outputs": [],
   "source": [
    "description = {'Rajmash Kholar': 0, 'Other Fresh Fruits': 1, 'Rubber': 2, 'Niger seed': 3, 'Grapes': 4, 'Ber': 5, \n",
    "               'Water Melon': 6, 'Snak Guard': 7, 'Beet Root': 8, 'Ash Gourd': 9, 'Other Dry Fruit': 10, 'Onion': 11, \n",
    "               'Moth': 12, 'Pineapple': 13, 'Dry ginger': 14, 'Black pepper': 15, 'Ribed Guard': 16, 'Brinjal': 17, \n",
    "               'Citrus Fruit': 18, 'Turmeric': 19, 'other misc. pulses': 20, 'Carrot': 21, 'Khesari': 22, 'Potato': 23, \n",
    "               'Rice': 24, 'Tomato': 25, 'Other  Rabi pulses': 26, 'Pear': 27, 'Kapas': 28, 'Sweet potato': 29, 'Jowar': 30, \n",
    "               'Bajra': 31, 'Paddy': 32, 'Ricebean (nagadal)': 33, 'Castor seed': 34, 'Tea': 35, 'Plums': 36, \n",
    "               'Other Kharif pulses': 37, 'Peas & beans (Pulses)': 38, 'Arcanut (Processed)': 39, 'Pulses total': 40, \n",
    "               'Jute & mesta': 41, 'Moong(Green Gram)': 42, 'Wheat': 43, 'Beans & Mutter(Vegetable)': 44, 'Banana': 45, \n",
    "               'other oilseeds': 46, 'Perilla': 47, 'Urad': 48, 'Pome Fruit': 49, 'Lemon': 50, 'Masoor': 51, 'Korra': 52, \n",
    "               'Barley': 53, 'Rapeseed &Mustard': 54, 'Cowpea(Lobia)': 55, 'Litchi': 56, 'Sannhamp': 57, 'Lentil': 58, \n",
    "               'Maize': 59, 'Bitter Gourd': 60, 'Other Vegetables': 61, 'Arecanut': 62, 'Cucumber': 63, 'Cardamom': 64, \n",
    "               'Orange': 65, 'Apple': 66, 'Papaya': 67, 'Coffee': 68, 'Cotton(lint)': 69, 'Cashewnut Processed': 70, \n",
    "               'Pome Granet': 71, 'Sesamum': 72, 'Yam': 73, 'Peach': 74, 'Sapota': 75, 'Colocosia': 76, 'Jobster': 77, \n",
    "               'Coconut ': 78, 'Atcanut (Raw)': 79, 'Other Citrus Fruit': 80, 'Peas  (vegetable)': 81, 'Groundnut': 82, \n",
    "               'Jute': 83, 'Cabbage': 84, 'Bottle Gourd': 85, 'Gram': 86, 'Soyabean': 87, 'Redish': 88, 'Jack Fruit': 89, \n",
    "               'Small millets': 90, 'Pump Kin': 91, 'Mesta': 92, 'Mango': 93, 'Varagu': 94, 'Ginger': 95, 'Horse-gram': 96, \n",
    "               'Tapioca': 97, 'Dry chillies': 98, 'Cashewnut': 99, 'Samai': 100, 'Safflower': 101, 'Sunflower': 102, \n",
    "               'Guar seed': 103, 'Arhar/Tur': 104, 'Cond-spcs other': 105, 'Cashewnut Raw': 106, 'Turnip': 107, \n",
    "               'Lab-Lab': 108, 'Blackgram': 109, 'Garlic': 110, 'Sugarcane': 111, 'Tobacco': 112, 'Other Cereals & Millets': 113, \n",
    "               'Bean': 114, 'Ragi': 115, 'Cauliflower': 116, 'Coriander': 117, 'Linseed': 118, 'other fibres': 119, \n",
    "               'Total foodgrain': 120, 'Oilseeds total': 121, 'Drum Stick': 122, 'Bhindi': 123}"
   ]
  },
  {
   "cell_type": "markdown",
   "metadata": {},
   "source": [
    "### Data Preprocessing"
   ]
  },
  {
   "cell_type": "code",
   "execution_count": 4,
   "metadata": {
    "scrolled": false
   },
   "outputs": [
    {
     "name": "stdout",
     "output_type": "stream",
     "text": [
      "[[2000 0 62 1254.0 2000.0]\n",
      " [2000 0 37 2.0 1.0]\n",
      " [2000 0 24 102.0 321.0]\n",
      " [2000 1 45 176.0 641.0]\n",
      " [2000 1 99 720.0 165.0]\n",
      " [2000 1 78 18168.0 65100000.0]\n",
      " [2000 1 14 36.0 100.0]\n",
      " [2000 1 111 1.0 2.0]\n",
      " [2000 1 29 5.0 15.0]\n",
      " [2000 1 97 40.0 169.0]]\n"
     ]
    }
   ],
   "source": [
    "def vectorize_season(num):\n",
    "    one_hot = np.zeros(6,dtype=int)\n",
    "    one_hot[int(num)]=1\n",
    "    return one_hot\n",
    "def vectorize_crops(num):\n",
    "    one_hot = np.zeros(124,dtype=int)\n",
    "    one_hot[int(num)]=1\n",
    "    return one_hot\n",
    "    \n",
    "list_of_season = {\"Kharif\":0,\"Whole Year\":1,\"Autumn\":2,\"Rabi\":3,\"Winter\":4,\"Summer\":5}\n",
    "crops = dataset[\"Crop\"].values\n",
    "seasons = dataset['Season'].values\n",
    "data_list = []\n",
    "for i in seasons:\n",
    "    data_list.append(i.strip())\n",
    "seasons = np.array(data_list)\n",
    "#Categorical Encoding seasons\n",
    "for i in list_of_season:\n",
    "    seasons[seasons==i] = int(list_of_season[i])\n",
    "#One-Hot Encoding seasons\n",
    "encoded_seasons = []\n",
    "for i in seasons:\n",
    "    encoded_seasons.append(vectorize_season(i))\n",
    "encoded_seasons = np.array(encoded_seasons)\n",
    "#Categorical Encoding seasons\n",
    "for i in description:\n",
    "    crops[crops==i] = description[i]\n",
    "#One-Hot Encoding seasons\n",
    "encoded_crops = []\n",
    "for i in seasons:\n",
    "    encoded_crops.append(vectorize_crops(i))\n",
    "encoded_crops = np.array(encoded_crops)\n",
    "loaded_data = dataset.iloc[:,2:].values\n",
    "loaded_data[:,1]=seasons\n",
    "loaded_data[:,2]=crops\n",
    "int_list_season=[]\n",
    "for i in loaded_data[:,1]:\n",
    "    int_list_season.append(int(i))\n",
    "loaded_data[:,1] = int_list_season\n",
    "print(loaded_data[:10])\n",
    "from sklearn.model_selection import train_test_split\n",
    "features = loaded_data[:,:-1]\n",
    "target = loaded_data[:,-1]\n",
    "updated_target=[]\n",
    "for i in target:\n",
    "    try:\n",
    "        updated_target.append(int(i))\n",
    "    except:\n",
    "        updated_target.append(600)\n",
    "X_train,X_test,y_train,y_test=train_test_split(features,updated_target,test_size = 0.2)\n",
    "y_train = np.array(y_train)\n",
    "y_test = np.array(y_test)"
   ]
  },
  {
   "cell_type": "markdown",
   "metadata": {},
   "source": [
    "### Training Random Forest Model"
   ]
  },
  {
   "cell_type": "code",
   "execution_count": 5,
   "metadata": {},
   "outputs": [
    {
     "name": "stdout",
     "output_type": "stream",
     "text": [
      "[8.89565000e+03 3.00716000e+03 1.30350667e+02 4.83508333e+01\n",
      " 5.73850000e+02 1.29296090e+05 8.61703000e+03 1.29184000e+03\n",
      " 2.89446874e+05 5.25410000e+02]\n"
     ]
    }
   ],
   "source": [
    "from sklearn.ensemble import RandomForestRegressor as rfr\n",
    "reg  = rfr(100)\n",
    "reg.fit(X_train,y_train)\n",
    "r_prediction = reg.predict(X_test)\n",
    "print(r_prediction[:10])"
   ]
  },
  {
   "cell_type": "markdown",
   "metadata": {},
   "source": [
    "### Evaluating the RandomForrestModel"
   ]
  },
  {
   "cell_type": "code",
   "execution_count": 7,
   "metadata": {},
   "outputs": [],
   "source": [
    "from sklearn.metrics import mean_squared_error\n",
    "random_for_error = mean_squared_error(y_test,r_prediction)"
   ]
  },
  {
   "cell_type": "markdown",
   "metadata": {},
   "source": [
    "### Preprocessing for Deep learning"
   ]
  },
  {
   "cell_type": "code",
   "execution_count": 8,
   "metadata": {},
   "outputs": [
    {
     "name": "stdout",
     "output_type": "stream",
     "text": [
      "[[31003]\n",
      " [66045]\n",
      " [    2]\n",
      " [   32]\n",
      " [   13]\n",
      " [ 8723]\n",
      " [10963]\n",
      " [    0]\n",
      " [   22]\n",
      " [ 1540]]\n",
      "49219\n",
      "49219\n"
     ]
    }
   ],
   "source": [
    "X_train,X_test,y_train,y_test=train_test_split(features,updated_target,test_size = 0.2)\n",
    "y_train = np.array(y_train)\n",
    "y_test = np.array(y_test)\n",
    "y_train  = y_train.reshape(-1,1)\n",
    "print(y_train[:10])\n",
    "y_test  = y_test.reshape(-1,1)\n",
    "\n",
    "print(len(y_test))\n",
    "print(len(X_test))"
   ]
  },
  {
   "cell_type": "markdown",
   "metadata": {},
   "source": [
    "### Building Neural Network"
   ]
  },
  {
   "cell_type": "code",
   "execution_count": 9,
   "metadata": {},
   "outputs": [
    {
     "name": "stdout",
     "output_type": "stream",
     "text": [
      "Train on 137810 samples, validate on 59062 samples\n",
      "Epoch 1/15\n",
      "137810/137810 [==============================] - 13s 97us/step - loss: 278591189477136.8750 - mean_absolute_error: 597966.3855 - mean_squared_error: 278591189477136.8750 - val_loss: 295361791284528.0625 - val_mean_absolute_error: 676111.9806 - val_mean_squared_error: 295361791284528.0625\n",
      "Epoch 2/15\n",
      "137810/137810 [==============================] - 8s 56us/step - loss: 278471336475420.9688 - mean_absolute_error: 655900.7529 - mean_squared_error: 278471336475420.9688 - val_loss: 295261553621797.2500 - val_mean_absolute_error: 742321.2078 - val_mean_squared_error: 295261553621797.2500\n",
      "Epoch 3/15\n",
      "137810/137810 [==============================] - 7s 54us/step - loss: 278492869177967.5938 - mean_absolute_error: 680691.8976 - mean_squared_error: 278492869177967.5938 - val_loss: 295203001790661.3750 - val_mean_absolute_error: 752796.7686 - val_mean_squared_error: 295203001790661.3750\n",
      "Epoch 4/15\n",
      "137810/137810 [==============================] - 7s 54us/step - loss: 278417115176972.2500 - mean_absolute_error: 688327.1379 - mean_squared_error: 278417115176972.2500 - val_loss: 295221450046387.2500 - val_mean_absolute_error: 717283.0066 - val_mean_squared_error: 295221450046387.2500\n",
      "Epoch 5/15\n",
      "137810/137810 [==============================] - 7s 54us/step - loss: 278302072160786.2188 - mean_absolute_error: 672156.7044 - mean_squared_error: 278302072160786.2188 - val_loss: 294969099724114.8750 - val_mean_absolute_error: 814247.0626 - val_mean_squared_error: 294969099724114.8750\n",
      "Epoch 6/15\n",
      "137810/137810 [==============================] - 8s 60us/step - loss: 278248088478787.0625 - mean_absolute_error: 697709.2247 - mean_squared_error: 278248088478787.0625 - val_loss: 295216456533058.3125 - val_mean_absolute_error: 678407.4609 - val_mean_squared_error: 295216456533058.3125\n",
      "Epoch 7/15\n",
      "137810/137810 [==============================] - 7s 50us/step - loss: 278327454601073.9375 - mean_absolute_error: 681834.1391 - mean_squared_error: 278327454601073.9375 - val_loss: 294955857197901.1875 - val_mean_absolute_error: 764837.2155 - val_mean_squared_error: 294955857197901.1875\n",
      "Epoch 8/15\n",
      "137810/137810 [==============================] - 8s 57us/step - loss: 278215747670744.2188 - mean_absolute_error: 687838.7165 - mean_squared_error: 278215747670744.2188 - val_loss: 295181248826654.2500 - val_mean_absolute_error: 896826.4248 - val_mean_squared_error: 295181248826654.2500\n",
      "Epoch 9/15\n",
      "137810/137810 [==============================] - 10s 71us/step - loss: 278280564575530.2188 - mean_absolute_error: 696024.5502 - mean_squared_error: 278280564575530.2188 - val_loss: 294869040621153.6250 - val_mean_absolute_error: 766711.3374 - val_mean_squared_error: 294869040621153.6250\n",
      "Epoch 10/15\n",
      "137810/137810 [==============================] - 9s 67us/step - loss: 278220027541418.8750 - mean_absolute_error: 698650.5977 - mean_squared_error: 278220027541418.8750 - val_loss: 295394042207179.6875 - val_mean_absolute_error: 688171.3977 - val_mean_squared_error: 295394042207179.6875\n",
      "Epoch 11/15\n",
      "137810/137810 [==============================] - 10s 69us/step - loss: 278158231645563.8438 - mean_absolute_error: 694170.9233 - mean_squared_error: 278158231645563.8438 - val_loss: 294797731909884.5625 - val_mean_absolute_error: 797724.4802 - val_mean_squared_error: 294797731909884.5625\n",
      "Epoch 12/15\n",
      "137810/137810 [==============================] - 10s 73us/step - loss: 278212705938828.9375 - mean_absolute_error: 701970.3529 - mean_squared_error: 278212705938828.9375 - val_loss: 295018903603066.6250 - val_mean_absolute_error: 704279.1592 - val_mean_squared_error: 295018903603066.6250\n",
      "Epoch 13/15\n",
      "137810/137810 [==============================] - 12s 90us/step - loss: 278106454837381.1875 - mean_absolute_error: 695253.3478 - mean_squared_error: 278106454837381.1875 - val_loss: 295127988321469.1250 - val_mean_absolute_error: 670026.6748 - val_mean_squared_error: 295127988321469.1250\n",
      "Epoch 14/15\n",
      "137810/137810 [==============================] - 8s 57us/step - loss: 278245641870662.6875 - mean_absolute_error: 681087.1177 - mean_squared_error: 278245641870662.6875 - val_loss: 294916919104704.8125 - val_mean_absolute_error: 720884.3501 - val_mean_squared_error: 294916919104704.8125\n",
      "Epoch 15/15\n",
      "137810/137810 [==============================] - 8s 55us/step - loss: 278170383244402.8125 - mean_absolute_error: 695314.2620 - mean_squared_error: 278170383244402.8125 - val_loss: 294973088864312.8125 - val_mean_absolute_error: 700690.1759 - val_mean_squared_error: 294973088864312.8125\n"
     ]
    }
   ],
   "source": [
    "import tensorflow as tf\n",
    "from tensorflow.keras import layers\n",
    "def build_model():\n",
    "  model = tf.keras.Sequential([\n",
    "    layers.Flatten(),\n",
    "    layers.Dense(150, activation=tf.nn.relu),\n",
    "    layers.Dense(150, activation=tf.nn.relu),\n",
    "    layers.Dense(1)\n",
    "  ])\n",
    "\n",
    "  optimizer = tf.keras.optimizers.RMSprop(0.001)\n",
    "\n",
    "  model.compile(loss='mse',\n",
    "                optimizer=optimizer,\n",
    "                metrics=['mae', 'mse'])\n",
    "  return model\n",
    "model = build_model()\n",
    "history = model.fit(X_train, y_train, epochs=15,validation_split=0.3)"
   ]
  },
  {
   "cell_type": "markdown",
   "metadata": {},
   "source": [
    "### Evaluation of the Deep Learning Model"
   ]
  },
  {
   "cell_type": "code",
   "execution_count": 9,
   "metadata": {},
   "outputs": [
    {
     "name": "stdout",
     "output_type": "stream",
     "text": [
      "49219/49219 [==============================] - 5s 104us/step\n",
      "mse 341620682520770.5\n",
      "loss 341620682520770.5\n",
      "mae 899002.0045714054\n"
     ]
    }
   ],
   "source": [
    "loss, mae, mse = model.evaluate(X_test, y_test)\n",
    "print(\"mse\",mse)\n",
    "print(\"loss\",loss)\n",
    "print(\"mae\",mae)"
   ]
  },
  {
   "cell_type": "markdown",
   "metadata": {},
   "source": [
    "### Comparision of Deep learning model and Random Forest Regressor"
   ]
  },
  {
   "cell_type": "code",
   "execution_count": 10,
   "metadata": {},
   "outputs": [
    {
     "data": {
      "image/png": "[encoded data removed]",
      "text/plain": [
       "<Figure size 432x288 with 1 Axes>"
      ]
     },
     "metadata": {
      "needs_background": "light"
     },
     "output_type": "display_data"
    }
   ],
   "source": [
    "from matplotlib import pyplot as plt\n",
    "x = [\"Random_Forest\",\"Deep_learning\"]\n",
    "y = [random_for_error,mse]\n",
    "x2 = [6,9,11]\n",
    "y2 = [6,15,7]\n",
    "plt.bar(x, y, align='center')\n",
    "plt.bar(x2, y2, color='g', align='center')\n",
    "plt.title('Random Forrest vs Deep learning Model')\n",
    "plt.xlim(-1,2)\n",
    "plt.ylabel('Error')\n",
    "plt.xlabel('Model')\n",
    "plt.show()\n"
   ]
  },
  {
   "cell_type": "markdown",
   "metadata": {},
   "source": [
    "### Fertilizer prediction and Evaluation"
   ]
  },
  {
   "cell_type": "code",
   "execution_count": 3,
   "metadata": {},
   "outputs": [
    {
     "data": {
      "image/png": "[encoded data removed]",
      "text/plain": [
       "<Figure size 432x288 with 1 Axes>"
      ]
     },
     "metadata": {
      "needs_background": "light"
     },
     "output_type": "display_data"
    },
    {
     "data": {
      "image/png": "[encoded data removed]",
      "text/plain": [
       "<Figure size 432x288 with 1 Axes>"
      ]
     },
     "metadata": {
      "needs_background": "light"
     },
     "output_type": "display_data"
    }
   ],
   "source": [
    "from sklearn.model_selection import train_test_split\n",
    "import pandas as pd\n",
    "import numpy as np\n",
    "import matplotlib.pyplot as plt\n",
    "%matplotlib inline\n",
    "fert_dataset = pd.read_csv('Fertilizer.csv')\n",
    "X = fert_dataset.iloc[:, :-1].values\n",
    "y = fert_dataset.iloc[:, 1].values\n",
    "X_train, X_test, y_train, y_test = train_test_split(X, y, test_size = 1/3, random_state = 0)\n",
    "# Fitting Simple Linear Regression to the Training set\n",
    "from sklearn.linear_model import LinearRegression\n",
    "regressor = LinearRegression()\n",
    "regressor.fit(X_train, y_train)\n",
    "\n",
    "# Predicting the Test set results\n",
    "y_pred = regressor.predict(X_test)\n",
    "\n",
    "# Visualising the Training set results\n",
    "plt.scatter(X_train, y_train, color = 'red')\n",
    "plt.plot(X_train, regressor.predict(X_train), color = 'blue')\n",
    "plt.title('Fertilizer vs Production (Training set)')\n",
    "plt.xlabel('Production')\n",
    "plt.ylabel('Fertilizer')\n",
    "plt.show()\n",
    "\n",
    "# Visualising the Test set results\n",
    "plt.scatter(X_test, y_test, color = 'red')\n",
    "plt.plot(X_train, regressor.predict(X_train), color = 'blue')\n",
    "plt.title('Fertilizer vs Production (Test set)')\n",
    "plt.xlabel('Production')\n",
    "plt.ylabel('Fertilizer')\n",
    "plt.show()"
   ]
  },
  {
   "cell_type": "markdown",
   "metadata": {},
   "source": [
    "### Prediction based on User Input"
   ]
  },
  {
   "cell_type": "code",
   "execution_count": 5,
   "metadata": {},
   "outputs": [
    {
     "ename": "NameError",
     "evalue": "name 'list_of_season' is not defined",
     "output_type": "error",
     "traceback": [
      "\u001b[1;31m---------------------------------------------------------------------------\u001b[0m",
      "\u001b[1;31mNameError\u001b[0m                                 Traceback (most recent call last)",
      "\u001b[1;32m<ipython-input-5-aff73cb4808b>\u001b[0m in \u001b[0;36m<module>\u001b[1;34m\u001b[0m\n\u001b[0;32m      4\u001b[0m     \u001b[0minput_data\u001b[0m \u001b[1;33m=\u001b[0m \u001b[0mnp\u001b[0m\u001b[1;33m.\u001b[0m\u001b[0marray\u001b[0m\u001b[1;33m(\u001b[0m\u001b[1;33m[\u001b[0m\u001b[1;33m[\u001b[0m\u001b[0mcrop_year\u001b[0m\u001b[1;33m,\u001b[0m\u001b[0mseason\u001b[0m\u001b[1;33m,\u001b[0m\u001b[0mcrop\u001b[0m\u001b[1;33m,\u001b[0m\u001b[0marea\u001b[0m\u001b[1;33m]\u001b[0m\u001b[1;33m]\u001b[0m\u001b[1;33m)\u001b[0m\u001b[1;33m\u001b[0m\u001b[1;33m\u001b[0m\u001b[0m\n\u001b[0;32m      5\u001b[0m     \u001b[1;32mreturn\u001b[0m \u001b[0mmodel\u001b[0m\u001b[1;33m.\u001b[0m\u001b[0mpredict\u001b[0m\u001b[1;33m(\u001b[0m\u001b[0minput_data\u001b[0m\u001b[1;33m)\u001b[0m\u001b[1;33m\u001b[0m\u001b[1;33m\u001b[0m\u001b[0m\n\u001b[1;32m----> 6\u001b[1;33m \u001b[0mprint\u001b[0m\u001b[1;33m(\u001b[0m\u001b[1;34m\"production:\"\u001b[0m\u001b[1;33m,\u001b[0m\u001b[0muser_input_prediction\u001b[0m\u001b[1;33m(\u001b[0m\u001b[1;34m\"Andra Pradesh\"\u001b[0m\u001b[1;33m,\u001b[0m\u001b[1;34m\"CHITTOOR\"\u001b[0m\u001b[1;33m,\u001b[0m\u001b[1;36m2012\u001b[0m\u001b[1;33m,\u001b[0m\u001b[1;34m\"Kharif\"\u001b[0m\u001b[1;33m,\u001b[0m\u001b[1;34m\"Grapes\"\u001b[0m\u001b[1;33m,\u001b[0m\u001b[1;36m3473\u001b[0m\u001b[1;33m)\u001b[0m\u001b[1;33m[\u001b[0m\u001b[1;36m0\u001b[0m\u001b[1;33m]\u001b[0m\u001b[1;33m[\u001b[0m\u001b[1;36m0\u001b[0m\u001b[1;33m]\u001b[0m\u001b[1;33m)\u001b[0m\u001b[1;33m\u001b[0m\u001b[1;33m\u001b[0m\u001b[0m\n\u001b[0m",
      "\u001b[1;32m<ipython-input-5-aff73cb4808b>\u001b[0m in \u001b[0;36muser_input_prediction\u001b[1;34m(state_name, district_name, crop_year, season, crop, area)\u001b[0m\n\u001b[0;32m      1\u001b[0m \u001b[1;32mdef\u001b[0m \u001b[0muser_input_prediction\u001b[0m\u001b[1;33m(\u001b[0m\u001b[0mstate_name\u001b[0m\u001b[1;33m,\u001b[0m\u001b[0mdistrict_name\u001b[0m\u001b[1;33m,\u001b[0m\u001b[0mcrop_year\u001b[0m\u001b[1;33m,\u001b[0m\u001b[0mseason\u001b[0m\u001b[1;33m,\u001b[0m\u001b[0mcrop\u001b[0m\u001b[1;33m,\u001b[0m\u001b[0marea\u001b[0m\u001b[1;33m)\u001b[0m\u001b[1;33m:\u001b[0m\u001b[1;33m\u001b[0m\u001b[1;33m\u001b[0m\u001b[0m\n\u001b[1;32m----> 2\u001b[1;33m     \u001b[0mseason\u001b[0m \u001b[1;33m=\u001b[0m \u001b[0mlist_of_season\u001b[0m\u001b[1;33m[\u001b[0m\u001b[0mseason\u001b[0m\u001b[1;33m]\u001b[0m\u001b[1;33m\u001b[0m\u001b[1;33m\u001b[0m\u001b[0m\n\u001b[0m\u001b[0;32m      3\u001b[0m     \u001b[0mcrop\u001b[0m \u001b[1;33m=\u001b[0m \u001b[0mdescription\u001b[0m\u001b[1;33m[\u001b[0m\u001b[0mcrop\u001b[0m\u001b[1;33m]\u001b[0m\u001b[1;33m\u001b[0m\u001b[1;33m\u001b[0m\u001b[0m\n\u001b[0;32m      4\u001b[0m     \u001b[0minput_data\u001b[0m \u001b[1;33m=\u001b[0m \u001b[0mnp\u001b[0m\u001b[1;33m.\u001b[0m\u001b[0marray\u001b[0m\u001b[1;33m(\u001b[0m\u001b[1;33m[\u001b[0m\u001b[1;33m[\u001b[0m\u001b[0mcrop_year\u001b[0m\u001b[1;33m,\u001b[0m\u001b[0mseason\u001b[0m\u001b[1;33m,\u001b[0m\u001b[0mcrop\u001b[0m\u001b[1;33m,\u001b[0m\u001b[0marea\u001b[0m\u001b[1;33m]\u001b[0m\u001b[1;33m]\u001b[0m\u001b[1;33m)\u001b[0m\u001b[1;33m\u001b[0m\u001b[1;33m\u001b[0m\u001b[0m\n\u001b[0;32m      5\u001b[0m     \u001b[1;32mreturn\u001b[0m \u001b[0mmodel\u001b[0m\u001b[1;33m.\u001b[0m\u001b[0mpredict\u001b[0m\u001b[1;33m(\u001b[0m\u001b[0minput_data\u001b[0m\u001b[1;33m)\u001b[0m\u001b[1;33m\u001b[0m\u001b[1;33m\u001b[0m\u001b[0m\n",
      "\u001b[1;31mNameError\u001b[0m: name 'list_of_season' is not defined"
     ]
    }
   ],
   "source": [
    "def user_input_prediction(state_name,district_name,crop_year,season,crop,area):\n",
    "    season = list_of_season[season]\n",
    "    crop = description[crop]\n",
    "    input_data = np.array([[crop_year,season,crop,area]])\n",
    "    return model.predict(input_data)\n",
    "print(\"production:\",user_input_prediction(\"Andra Pradesh\",\"CHITTOOR\",2012,\"Kharif\",\"Grapes\",3473)[0][0])"
   ]
  },
  {
   "cell_type": "code",
   "execution_count": null,
   "metadata": {},
   "outputs": [],
   "source": []
  }
 ],
 "metadata": {
  "kernelspec": {
   "display_name": "Python 3",
   "language": "python",
   "name": "python3"
  },
  "language_info": {
   "codemirror_mode": {
    "name": "ipython",
    "version": 3
   },
   "file_extension": ".py",
   "mimetype": "text/x-python",
   "name": "python",
   "nbconvert_exporter": "python",
   "pygments_lexer": "ipython3",
   "version": "3.6.8"
  }
 },
 "nbformat": 4,
 "nbformat_minor": 2
}
